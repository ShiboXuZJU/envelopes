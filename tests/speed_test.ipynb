{
 "cells": [
  {
   "cell_type": "code",
   "execution_count": 1,
   "metadata": {},
   "outputs": [],
   "source": [
    "import sys\n",
    "import pathlib\n",
    "import os\n",
    "sys.path.append(str(pathlib.Path(os.getcwd()).parent.absolute()))\n",
    "from envelopes import evc, evp\n",
    "import numpy as np\n",
    "import matplotlib.pyplot as plt\n",
    "import pickle\n",
    "import time"
   ]
  },
  {
   "cell_type": "markdown",
   "metadata": {},
   "source": [
    "### Building envelopes speed test"
   ]
  },
  {
   "cell_type": "code",
   "execution_count": 2,
   "metadata": {},
   "outputs": [],
   "source": [
    "env_num=100\n",
    "dt = np.arange(0, 50 * env_num, 50)\n",
    "amp = np.random.rand(env_num)"
   ]
  },
  {
   "cell_type": "code",
   "execution_count": 3,
   "metadata": {},
   "outputs": [
    {
     "name": "stdout",
     "output_type": "stream",
     "text": [
      "Python time taken per loop: 0.1064725637435913 ms\n"
     ]
    }
   ],
   "source": [
    "t_start = time.time()\n",
    "loops = 10000\n",
    "for i in range(loops):\n",
    "    # g_p = evp.Gaussian(10, 10, 0.1)\n",
    "    g_p = evp.GaussianDRAG(10, 10, 0.1, 0.0773, 0.5, 0.01)\n",
    "    # g_p = evp.mix(evp.Gaussian(10, 10, 0.1), 0.0773, 0.01, True)\n",
    "    s_p = evp.align(g_p, dt, amp)\n",
    "t_end = time.time()\n",
    "build_time_py = (t_end - t_start) / loops * 1000\n",
    "print(\"Python time taken per loop:\", build_time_py, \"ms\")"
   ]
  },
  {
   "cell_type": "code",
   "execution_count": 4,
   "metadata": {},
   "outputs": [
    {
     "name": "stdout",
     "output_type": "stream",
     "text": [
      "C++ time taken per loop: 0.024922800064086915 ms\n"
     ]
    }
   ],
   "source": [
    "t_start = time.time()\n",
    "loops = 10000\n",
    "for i in range(loops):\n",
    "    # g_c = evc.Gaussian(10, 10, 0.1)\n",
    "    g_c = evc.GaussianDRAG(10, 10, 0.1, 0.0773, 0.5, 0.01)\n",
    "    # g_p = evc.mix(evc.Gaussian(10, 10, 0.1), 0.0773, 0.01, True)\n",
    "    s_c = evc.align(g_c, dt, amp)\n",
    "t_end = time.time()\n",
    "build_time_cpp = (t_end - t_start) / loops * 1000\n",
    "print(\"C++ time taken per loop:\", build_time_cpp, \"ms\")"
   ]
  },
  {
   "cell_type": "markdown",
   "metadata": {},
   "source": [
    "### Decode envelopes speed test"
   ]
  },
  {
   "cell_type": "code",
   "execution_count": 5,
   "metadata": {},
   "outputs": [],
   "source": [
    "resolution = 0.5\n",
    "wc_p = evp.WaveCache(resolution)\n",
    "# wc_p = evp.WaveCache(resolution, precision='double')\n",
    "wc_c = evc.WaveCache(resolution)"
   ]
  },
  {
   "cell_type": "code",
   "execution_count": 6,
   "metadata": {},
   "outputs": [
    {
     "name": "stdout",
     "output_type": "stream",
     "text": [
      "Python time taken per loop: 1.5799808502197266 ms\n"
     ]
    }
   ],
   "source": [
    "t_start = time.time()\n",
    "loops = 100\n",
    "for i in range(loops):\n",
    "    t_p, wave_p = evp.decode_envelope(s_p, wc_p)\n",
    "    # t_p, wave_p = evp.decode_envelope(s_p, wc_p, start=-20000, end=100000)\n",
    "    # wave_p.tobytes()\n",
    "t_end = time.time()\n",
    "decode_time_py = (t_end - t_start) / loops * 1000\n",
    "print(\"Python time taken per loop:\", decode_time_py, \"ms\")"
   ]
  },
  {
   "cell_type": "code",
   "execution_count": 7,
   "metadata": {},
   "outputs": [
    {
     "data": {
      "text/plain": [
       "10022"
      ]
     },
     "execution_count": 7,
     "metadata": {},
     "output_type": "execute_result"
    }
   ],
   "source": [
    "len(wave_p)"
   ]
  },
  {
   "cell_type": "code",
   "execution_count": 8,
   "metadata": {},
   "outputs": [
    {
     "name": "stdout",
     "output_type": "stream",
     "text": [
      "C++ time taken per loop: 0.07099795341491699 ms\n"
     ]
    }
   ],
   "source": [
    "t_start = time.time()\n",
    "loops = 1000\n",
    "for i in range(loops):\n",
    "    t_c, wave_c = evc.decode_envelope(s_c, wc_c)\n",
    "    # t_c, wave_c = evc.decode_envelope(s_c, wc_c, start=-20000, end=100000)\n",
    "    wave_c = np.array(wave_c, copy=False)\n",
    "    # wave_c.tobytes()\n",
    "t_end = time.time()\n",
    "decode_time_cpp = (t_end - t_start) / loops * 1000\n",
    "print(\"C++ time taken per loop:\", decode_time_cpp, \"ms\")"
   ]
  },
  {
   "cell_type": "code",
   "execution_count": 9,
   "metadata": {},
   "outputs": [
    {
     "data": {
      "text/plain": [
       "10022"
      ]
     },
     "execution_count": 9,
     "metadata": {},
     "output_type": "execute_result"
    }
   ],
   "source": [
    "len(wave_c)"
   ]
  },
  {
   "cell_type": "markdown",
   "metadata": {},
   "source": [
    "### Serialization speed test"
   ]
  },
  {
   "cell_type": "code",
   "execution_count": 10,
   "metadata": {},
   "outputs": [
    {
     "name": "stdout",
     "output_type": "stream",
     "text": [
      "Python time taken per loop: 0.7200384140014648 ms\n"
     ]
    }
   ],
   "source": [
    "t_start = time.time()\n",
    "loops = 100\n",
    "for i in range(loops):\n",
    "    ss_p = pickle.dumps(s_p)\n",
    "t_end = time.time()\n",
    "serialization_time_py = (t_end - t_start) / loops * 1000\n",
    "print(\"Python time taken per loop:\", serialization_time_py, \"ms\")"
   ]
  },
  {
   "cell_type": "code",
   "execution_count": 11,
   "metadata": {},
   "outputs": [
    {
     "name": "stdout",
     "output_type": "stream",
     "text": [
      "C++ time taken per loop: 0.051996469497680664 ms\n"
     ]
    }
   ],
   "source": [
    "t_start = time.time()\n",
    "loops = 1000\n",
    "for i in range(loops):\n",
    "    ss_c = pickle.dumps(s_c)\n",
    "t_end = time.time()\n",
    "serialization_time_cpp = (t_end - t_start) / loops * 1000\n",
    "print(\"C++ time taken per loop:\", serialization_time_cpp, \"ms\")"
   ]
  },
  {
   "cell_type": "markdown",
   "metadata": {},
   "source": [
    "### Deserialization speed test"
   ]
  },
  {
   "cell_type": "code",
   "execution_count": 12,
   "metadata": {},
   "outputs": [
    {
     "name": "stdout",
     "output_type": "stream",
     "text": [
      "Python time taken per loop: 0.1799774169921875 ms\n"
     ]
    }
   ],
   "source": [
    "t_start = time.time()\n",
    "loops = 100\n",
    "for i in range(loops):\n",
    "    pickle.loads(ss_p)\n",
    "t_end = time.time()\n",
    "deserialization_time_py = (t_end - t_start) / loops * 1000\n",
    "print(\"Python time taken per loop:\", deserialization_time_py, \"ms\")"
   ]
  },
  {
   "cell_type": "code",
   "execution_count": 13,
   "metadata": {},
   "outputs": [
    {
     "name": "stdout",
     "output_type": "stream",
     "text": [
      "C++ time taken per loop: 0.02300095558166504 ms\n"
     ]
    }
   ],
   "source": [
    "t_start = time.time()\n",
    "loops = 1000\n",
    "for i in range(loops):\n",
    "    pickle.loads(ss_c)\n",
    "t_end = time.time()\n",
    "deserialization_time_cpp = (t_end - t_start) / loops * 1000\n",
    "print(\"C++ time taken per loop:\", deserialization_time_cpp, \"ms\")"
   ]
  },
  {
   "cell_type": "markdown",
   "metadata": {},
   "source": [
    "### Visualizing the speed"
   ]
  },
  {
   "cell_type": "code",
   "execution_count": 14,
   "metadata": {},
   "outputs": [
    {
     "data": {
      "text/plain": [
       "([<matplotlib.axis.XTick at 0x2957410f040>,\n",
       "  <matplotlib.axis.XTick at 0x2957410f280>,\n",
       "  <matplotlib.axis.XTick at 0x295740fdf40>,\n",
       "  <matplotlib.axis.XTick at 0x295741ceb80>],\n",
       " [Text(0.25, 0, 'Build'),\n",
       "  Text(2.25, 0, 'Decode'),\n",
       "  Text(4.25, 0, 'Serialization'),\n",
       "  Text(6.25, 0, 'Deserialization')])"
      ]
     },
     "execution_count": 14,
     "metadata": {},
     "output_type": "execute_result"
    },
    {
     "data": {
      "image/png": "[encoded data removed]",
      "text/plain": [
       "<Figure size 432x288 with 1 Axes>"
      ]
     },
     "metadata": {
      "needs_background": "light"
     },
     "output_type": "display_data"
    }
   ],
   "source": [
    "x = np.array([0, 2, 4, 6])\n",
    "plt.bar(x, [build_time_py, decode_time_py, serialization_time_py, deserialization_time_py], label='Python', width=0.5)\n",
    "plt.bar(x + 0.5, [build_time_cpp, decode_time_cpp, serialization_time_cpp, deserialization_time_cpp], label='C++', width=0.5)\n",
    "# plt.bar(x + 0.5, [build_time_cpp*10, decode_time_cpp*10, serialization_time_cpp*10, deserialization_time_cpp*10], label='C++('+r'$\\times$'+'10)', width=0.5)\n",
    "plt.legend()\n",
    "plt.ylabel('Time (ms)')\n",
    "plt.xticks(x + 0.25, ['Build', 'Decode', 'Serialization', 'Deserialization'])"
   ]
  }
 ],
 "metadata": {
  "kernelspec": {
   "display_name": "base",
   "language": "python",
   "name": "python3"
  },
  "language_info": {
   "codemirror_mode": {
    "name": "ipython",
    "version": 3
   },
   "file_extension": ".py",
   "mimetype": "text/x-python",
   "name": "python",
   "nbconvert_exporter": "python",
   "pygments_lexer": "ipython3",
   "version": "3.9.7"
  }
 },
 "nbformat": 4,
 "nbformat_minor": 2
}
